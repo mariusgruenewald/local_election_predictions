{
 "cells": [
  {
   "cell_type": "code",
   "execution_count": 1,
   "metadata": {},
   "outputs": [],
   "source": [
    "from sklearn.preprocessing import StandardScaler # scales variables to be mean=0, sd=1\n",
    "from sklearn.pipeline import Pipeline # in case multiple things are performed at the same time\n",
    "from sklearn.ensemble import GradientBoostingRegressor # Model 3\n",
    "from sklearn.ensemble import RandomForestRegressor # Model 2\n",
    "from sklearn.linear_model import LassoCV # Model 1\n",
    "from sklearn.linear_model import Lasso # To save time and not do the Cross-Validation every time\n",
    "from sklearn.svm import LinearSVR # Model 4\n",
    "from sklearn.model_selection import GridSearchCV # Hypertuning of parameters\n",
    "from sklearn.ensemble import VotingRegressor # Ensemble estimator\n",
    "import pandas as pd\n",
    "import numpy as np\n",
    "import time"
   ]
  },
  {
   "cell_type": "code",
   "execution_count": 2,
   "metadata": {},
   "outputs": [],
   "source": [
    "def CombineAttributes(data, var_list):\n",
    "    \n",
    "    for i in var_list:\n",
    "        for j in var_list:\n",
    "            \n",
    "            if i == j:\n",
    "                name = str(i)+ '_square'\n",
    "                data[name] = data.loc[:, i] * data.loc[:, i]\n",
    "\n",
    "            elif i <=j:\n",
    "                name =  str(i)+ '_' +str(j)\n",
    "                data[name] = data.loc[:, i] * data.loc[:, j]\n",
    "            else:\n",
    "                pass\n",
    "\n",
    "    return data"
   ]
  },
  {
   "cell_type": "code",
   "execution_count": 349,
   "metadata": {},
   "outputs": [
    {
     "data": {
      "text/html": [
       "<div>\n",
       "<style scoped>\n",
       "    .dataframe tbody tr th:only-of-type {\n",
       "        vertical-align: middle;\n",
       "    }\n",
       "\n",
       "    .dataframe tbody tr th {\n",
       "        vertical-align: top;\n",
       "    }\n",
       "\n",
       "    .dataframe thead th {\n",
       "        text-align: right;\n",
       "    }\n",
       "</style>\n",
       "<table border=\"1\" class=\"dataframe\">\n",
       "  <thead>\n",
       "    <tr style=\"text-align: right;\">\n",
       "      <th></th>\n",
       "      <th>county_id</th>\n",
       "      <th>year</th>\n",
       "      <th>asyl</th>\n",
       "      <th>city_id</th>\n",
       "      <th>city</th>\n",
       "      <th>cost_o_liv</th>\n",
       "      <th>BP_votes</th>\n",
       "      <th>CSU_votes</th>\n",
       "      <th>SPD_votes</th>\n",
       "      <th>ödp_votes</th>\n",
       "      <th>...</th>\n",
       "      <th>total_unemployed</th>\n",
       "      <th>unemployed15_20</th>\n",
       "      <th>unemployed15_25</th>\n",
       "      <th>unemployed55_65</th>\n",
       "      <th>unemployed_foreigners</th>\n",
       "      <th>unemployed_handycapped</th>\n",
       "      <th>unemployed_longtime</th>\n",
       "      <th>votes</th>\n",
       "      <th>youth_list</th>\n",
       "      <th>ödp</th>\n",
       "    </tr>\n",
       "  </thead>\n",
       "  <tbody>\n",
       "    <tr>\n",
       "      <td>0</td>\n",
       "      <td>9162</td>\n",
       "      <td>2020</td>\n",
       "      <td>5166.0</td>\n",
       "      <td>9162</td>\n",
       "      <td>München</td>\n",
       "      <td>2861.34</td>\n",
       "      <td>3779</td>\n",
       "      <td>216444</td>\n",
       "      <td>116764</td>\n",
       "      <td>6073.0</td>\n",
       "      <td>...</td>\n",
       "      <td>32465.0</td>\n",
       "      <td>455.0</td>\n",
       "      <td>1957.0</td>\n",
       "      <td>6480.0</td>\n",
       "      <td>14411.0</td>\n",
       "      <td>2386.0</td>\n",
       "      <td>8227.0</td>\n",
       "      <td>NaN</td>\n",
       "      <td>0</td>\n",
       "      <td>0</td>\n",
       "    </tr>\n",
       "    <tr>\n",
       "      <td>1</td>\n",
       "      <td>9162</td>\n",
       "      <td>2020</td>\n",
       "      <td>5166.0</td>\n",
       "      <td>9162</td>\n",
       "      <td>München</td>\n",
       "      <td>2861.34</td>\n",
       "      <td>3779</td>\n",
       "      <td>216444</td>\n",
       "      <td>116764</td>\n",
       "      <td>6073.0</td>\n",
       "      <td>...</td>\n",
       "      <td>32465.0</td>\n",
       "      <td>455.0</td>\n",
       "      <td>1957.0</td>\n",
       "      <td>6480.0</td>\n",
       "      <td>14411.0</td>\n",
       "      <td>2386.0</td>\n",
       "      <td>8227.0</td>\n",
       "      <td>NaN</td>\n",
       "      <td>0</td>\n",
       "      <td>0</td>\n",
       "    </tr>\n",
       "    <tr>\n",
       "      <td>2</td>\n",
       "      <td>9162</td>\n",
       "      <td>2020</td>\n",
       "      <td>5166.0</td>\n",
       "      <td>9162</td>\n",
       "      <td>München</td>\n",
       "      <td>2861.34</td>\n",
       "      <td>3779</td>\n",
       "      <td>216444</td>\n",
       "      <td>116764</td>\n",
       "      <td>6073.0</td>\n",
       "      <td>...</td>\n",
       "      <td>32465.0</td>\n",
       "      <td>455.0</td>\n",
       "      <td>1957.0</td>\n",
       "      <td>6480.0</td>\n",
       "      <td>14411.0</td>\n",
       "      <td>2386.0</td>\n",
       "      <td>8227.0</td>\n",
       "      <td>NaN</td>\n",
       "      <td>0</td>\n",
       "      <td>0</td>\n",
       "    </tr>\n",
       "    <tr>\n",
       "      <td>3</td>\n",
       "      <td>9162</td>\n",
       "      <td>2020</td>\n",
       "      <td>5166.0</td>\n",
       "      <td>9162</td>\n",
       "      <td>München</td>\n",
       "      <td>2861.34</td>\n",
       "      <td>3779</td>\n",
       "      <td>216444</td>\n",
       "      <td>116764</td>\n",
       "      <td>6073.0</td>\n",
       "      <td>...</td>\n",
       "      <td>32465.0</td>\n",
       "      <td>455.0</td>\n",
       "      <td>1957.0</td>\n",
       "      <td>6480.0</td>\n",
       "      <td>14411.0</td>\n",
       "      <td>2386.0</td>\n",
       "      <td>8227.0</td>\n",
       "      <td>NaN</td>\n",
       "      <td>0</td>\n",
       "      <td>0</td>\n",
       "    </tr>\n",
       "    <tr>\n",
       "      <td>4</td>\n",
       "      <td>9162</td>\n",
       "      <td>2020</td>\n",
       "      <td>5166.0</td>\n",
       "      <td>9162</td>\n",
       "      <td>München</td>\n",
       "      <td>2861.34</td>\n",
       "      <td>3779</td>\n",
       "      <td>216444</td>\n",
       "      <td>116764</td>\n",
       "      <td>6073.0</td>\n",
       "      <td>...</td>\n",
       "      <td>32465.0</td>\n",
       "      <td>455.0</td>\n",
       "      <td>1957.0</td>\n",
       "      <td>6480.0</td>\n",
       "      <td>14411.0</td>\n",
       "      <td>2386.0</td>\n",
       "      <td>8227.0</td>\n",
       "      <td>NaN</td>\n",
       "      <td>0</td>\n",
       "      <td>0</td>\n",
       "    </tr>\n",
       "  </tbody>\n",
       "</table>\n",
       "<p>5 rows × 97 columns</p>\n",
       "</div>"
      ],
      "text/plain": [
       "   county_id  year    asyl  city_id     city  cost_o_liv  BP_votes  CSU_votes  \\\n",
       "0       9162  2020  5166.0     9162  München     2861.34      3779     216444   \n",
       "1       9162  2020  5166.0     9162  München     2861.34      3779     216444   \n",
       "2       9162  2020  5166.0     9162  München     2861.34      3779     216444   \n",
       "3       9162  2020  5166.0     9162  München     2861.34      3779     216444   \n",
       "4       9162  2020  5166.0     9162  München     2861.34      3779     216444   \n",
       "\n",
       "   SPD_votes  ödp_votes  ...  total_unemployed  unemployed15_20  \\\n",
       "0     116764     6073.0  ...           32465.0            455.0   \n",
       "1     116764     6073.0  ...           32465.0            455.0   \n",
       "2     116764     6073.0  ...           32465.0            455.0   \n",
       "3     116764     6073.0  ...           32465.0            455.0   \n",
       "4     116764     6073.0  ...           32465.0            455.0   \n",
       "\n",
       "   unemployed15_25  unemployed55_65  unemployed_foreigners  \\\n",
       "0           1957.0           6480.0                14411.0   \n",
       "1           1957.0           6480.0                14411.0   \n",
       "2           1957.0           6480.0                14411.0   \n",
       "3           1957.0           6480.0                14411.0   \n",
       "4           1957.0           6480.0                14411.0   \n",
       "\n",
       "   unemployed_handycapped  unemployed_longtime  votes  youth_list  ödp  \n",
       "0                  2386.0               8227.0    NaN           0    0  \n",
       "1                  2386.0               8227.0    NaN           0    0  \n",
       "2                  2386.0               8227.0    NaN           0    0  \n",
       "3                  2386.0               8227.0    NaN           0    0  \n",
       "4                  2386.0               8227.0    NaN           0    0  \n",
       "\n",
       "[5 rows x 97 columns]"
      ]
     },
     "execution_count": 349,
     "metadata": {},
     "output_type": "execute_result"
    }
   ],
   "source": [
    "dataframe = pd.read_excel(r'C:\\Users\\mariu\\Documents\\Project Local Elections\\bayern_complete_1.xlsx')\n",
    "dataframe.head()"
   ]
  },
  {
   "cell_type": "code",
   "execution_count": 350,
   "metadata": {},
   "outputs": [
    {
     "data": {
      "text/plain": [
       "9091"
      ]
     },
     "execution_count": 350,
     "metadata": {},
     "output_type": "execute_result"
    }
   ],
   "source": [
    "dataframe_test = dataframe[dataframe['year'] == 2020].reset_index().drop(['index'], axis=1)\n",
    "dataframe_train = dataframe[(dataframe['year'] == 2014) | (dataframe['year'] == 2008)\n",
    "                           ].dropna(subset = ['incumbent', 'total_unemployed', 'asyl', 'cost_o_liv', 'capital_crimes'\n",
    "                                             ]).reset_index().drop(['index'], axis=1)\n",
    "len(dataframe_train)"
   ]
  },
  {
   "cell_type": "code",
   "execution_count": 355,
   "metadata": {},
   "outputs": [],
   "source": [
    "X_names = ['female_total_x', 'cost_o_liv', 'asyl', 'BP_votes', 'CSU_votes', 'SPD_votes', \n",
    "           'Linke_votes', 'FDP_votes', 'Grüne_votes', 'AfD', 'BP', 'CSU', 'FDP', \n",
    "           'FW', 'Grüne', 'Linke', 'SPD', 'age0_5', 'age15_18', 'age18_24', 'age25_30', 'age30_40', \n",
    "           'age40_50', 'age50_65', 'age65plus', 'age6_14', 'anteil_einkommensteuer', 'anteil_umsatzsteuer',\n",
    "           'capital_crimes', 'doctor', 'gewerbesteuerumlage', 'importance_climate', 'importance_social_sec', 'incumbent',\n",
    "           'istaufkommen', 'mayor', 'muslim', 'new_list',\n",
    "           'non_muslim_migrant', 'place_list', 'globalisation',\n",
    "           'politician', 'royal', 'search_result_stan', 'steuern_total', 'students',\n",
    "           'total_foreigner', 'total_pop', 'total_unemployed', 'unemployed_longtime', 'youth_list', 'ödp']\n",
    "\n",
    "to_scale = ['female_total_x', 'cost_o_liv', 'asyl',  'BP_votes', 'CSU_votes', 'SPD_votes', 'Linke_votes', 'FDP_votes',\n",
    "            'gewerbesteuerumlage', 'Grüne_votes', 'age0_5', 'age15_18', 'age18_24', 'age25_30', 'age30_40',\n",
    "            'age40_50', 'age50_65', 'age65plus', 'age6_14', 'capital_crimes',\n",
    "            'istaufkommen', 'students', 'total_foreigner', 'total_pop', 'total_unemployed', 'unemployed_longtime', \n",
    "            'steuern_total', 'anteil_einkommensteuer', 'anteil_umsatzsteuer']\n",
    "\n",
    "y_train = dataframe_train['votes']\n",
    "\n",
    "X_train = dataframe_train[X_names]\n",
    "X_test = dataframe_test[X_names]\n",
    "\n",
    "X_train_scaled = X_train.copy()\n",
    "X_test_scaled = X_test.copy()\n",
    "\n",
    "X_train_scaled_2 = StandardScaler().fit_transform(X_train[to_scale])\n",
    "X_test_scaled_2 = StandardScaler().fit(X_train[to_scale]).transform(dataframe_test[to_scale])\n",
    "\n",
    "X_train_scaled[to_scale] = X_train_scaled_2\n",
    "X_test_scaled[to_scale] = X_test_scaled_2"
   ]
  },
  {
   "cell_type": "code",
   "execution_count": 352,
   "metadata": {},
   "outputs": [
    {
     "data": {
      "text/plain": [
       "[]"
      ]
     },
     "execution_count": 352,
     "metadata": {},
     "output_type": "execute_result"
    }
   ],
   "source": [
    "X_test_scaled.columns[X_test_scaled.isna().any()].tolist()"
   ]
  },
  {
   "cell_type": "code",
   "execution_count": 353,
   "metadata": {},
   "outputs": [
    {
     "data": {
      "text/plain": [
       "[]"
      ]
     },
     "execution_count": 353,
     "metadata": {},
     "output_type": "execute_result"
    }
   ],
   "source": [
    "X_train_scaled.columns[X_test_scaled.isna().any()].tolist()"
   ]
  },
  {
   "cell_type": "code",
   "execution_count": 378,
   "metadata": {},
   "outputs": [
    {
     "name": "stdout",
     "output_type": "stream",
     "text": [
      "Fitting 10 folds for each of 7 candidates, totalling 70 fits\n"
     ]
    },
    {
     "name": "stderr",
     "output_type": "stream",
     "text": [
      "[Parallel(n_jobs=-1)]: Using backend LokyBackend with 8 concurrent workers.\n",
      "[Parallel(n_jobs=-1)]: Done  34 tasks      | elapsed:   16.2s\n",
      "[Parallel(n_jobs=-1)]: Done  70 out of  70 | elapsed:   26.6s finished\n"
     ]
    },
    {
     "data": {
      "text/plain": [
       "({'min_samples_leaf': 40},\n",
       " 0.39278534296541345,\n",
       " 1582890909.0109415,\n",
       " 1582890909.0139034,\n",
       " 0.9830829450247932)"
      ]
     },
     "execution_count": 378,
     "metadata": {},
     "output_type": "execute_result"
    }
   ],
   "source": [
    "param_test1 = {'n_estimators':range(20,200,20)}\n",
    "param_test2 = {'max_depth':range(5,16,2), 'min_samples_split':range(200,1001,100)}\n",
    "param_test3 = {'min_samples_leaf': range(10, 200, 30) }\n",
    "\n",
    "t1 = time.time()\n",
    "gradient_boosting_cv = GridSearchCV(estimator = GradientBoostingRegressor\n",
    "                                    (random_state=1, min_samples_leaf = 40, \n",
    "                                    n_estimators=180, loss = 'ls', learning_rate = 0.1, max_features = 'sqrt',\n",
    "                                    criterion = 'mse', verbose = 0, max_depth = 15, min_samples_split = 700)\n",
    "                                    , param_grid = param_test3, cv=10, error_score='raise', verbose = 1, n_jobs = -1)\n",
    "t_grad_cv = time.time() - t1\n",
    "\n",
    "t2 = time.time()\n",
    "gradient_boosting_cv.fit(X_train_scaled, y_train)\n",
    "t_grad_reg = time.time() - t2\n",
    "\n",
    "gradient_boosting_cv.best_params_, gradient_boosting_cv.best_score_, t1, t2, gradient_boosting_cv.score(X_train_scaled,y_train)"
   ]
  },
  {
   "cell_type": "code",
   "execution_count": 356,
   "metadata": {},
   "outputs": [
    {
     "data": {
      "text/plain": [
       "(0.9830829450247932,\n",
       " array([2.88102014e-02, 1.36122490e-02, 5.97338106e-02, 3.39416964e-02,\n",
       "        6.64293288e-02, 1.03994296e-02, 9.45194931e-03, 2.81235107e-02,\n",
       "        8.06610064e-02, 5.25044947e-05, 1.66205792e-02, 1.67249910e-01,\n",
       "        2.63345763e-03, 7.06970494e-04, 9.83158641e-03, 5.37244437e-05,\n",
       "        1.00586741e-01, 8.71081717e-03, 2.41539927e-03, 2.67500432e-02,\n",
       "        2.23490457e-02, 1.41777471e-02, 3.90451751e-02, 8.44320865e-03,\n",
       "        9.16862074e-03, 2.96663100e-03, 2.34525308e-02, 3.51036896e-02,\n",
       "        1.72370565e-02, 1.40800270e-04, 3.40539153e-02, 0.00000000e+00,\n",
       "        0.00000000e+00, 3.27450411e-02, 2.27617936e-03, 0.00000000e+00,\n",
       "        1.43113424e-06, 1.97361035e-04, 1.60629227e-05, 1.08830592e-02,\n",
       "        0.00000000e+00, 0.00000000e+00, 0.00000000e+00, 7.41897942e-04,\n",
       "        2.67174941e-02, 3.68825178e-03, 3.52865326e-03, 2.42246160e-02,\n",
       "        1.12263229e-02, 1.06946947e-02, 4.92050419e-06, 1.40677401e-04]))"
      ]
     },
     "execution_count": 356,
     "metadata": {},
     "output_type": "execute_result"
    }
   ],
   "source": [
    "grad_boost = GradientBoostingRegressor(random_state=1, min_samples_leaf = 40, \n",
    "                                    n_estimators=180, loss = 'ls', learning_rate = 0.1, max_features = 'sqrt',\n",
    "                                    criterion = 'mse', verbose = 0, max_depth = 15, min_samples_split = 700)\n",
    "\n",
    "grad_boost.fit(X_train_scaled, y_train)\n",
    "grad_boost.score(X_train_scaled, y_train), grad_boost.feature_importances_"
   ]
  },
  {
   "cell_type": "code",
   "execution_count": 379,
   "metadata": {},
   "outputs": [
    {
     "name": "stdout",
     "output_type": "stream",
     "text": [
      "Fitting 10 folds for each of 45 candidates, totalling 450 fits\n"
     ]
    },
    {
     "name": "stderr",
     "output_type": "stream",
     "text": [
      "[Parallel(n_jobs=-1)]: Using backend LokyBackend with 8 concurrent workers.\n",
      "[Parallel(n_jobs=-1)]: Done  34 tasks      | elapsed:   14.3s\n",
      "[Parallel(n_jobs=-1)]: Done 184 tasks      | elapsed:  2.5min\n",
      "[Parallel(n_jobs=-1)]: Done 434 tasks      | elapsed:  5.5min\n",
      "[Parallel(n_jobs=-1)]: Done 450 out of 450 | elapsed:  5.8min finished\n"
     ]
    },
    {
     "data": {
      "text/plain": [
       "(0.9914854080498726, {'min_samples_split': 30, 'n_estimators': 50})"
      ]
     },
     "execution_count": 379,
     "metadata": {},
     "output_type": "execute_result"
    }
   ],
   "source": [
    "param_grid_1 = {\n",
    "    #'max_depth': range(10,100,10),\n",
    "    #'min_samples_leaf': [4, 8, 12, 16, 20],\n",
    "    'min_samples_split': [10,20,30,40,50],\n",
    "    'n_estimators': range(10,100,10),\n",
    "}\n",
    "\n",
    "random_forest = GridSearchCV(estimator = RandomForestRegressor()\n",
    "                             , param_grid = param_grid_1, cv = 10, verbose = 1, n_jobs = -1)\n",
    "t2 = time.time()\n",
    "random_forest.fit(X_train_scaled, y_train)\n",
    "t_random_forest = time.time() - t2\n",
    "\n",
    "\n",
    "random_forest.score(X_train_scaled,y_train), random_forest.best_params_"
   ]
  },
  {
   "cell_type": "code",
   "execution_count": 380,
   "metadata": {},
   "outputs": [
    {
     "data": {
      "text/plain": [
       "RandomForestRegressor(bootstrap=True, criterion='mse', max_depth=60,\n",
       "                      max_features='auto', max_leaf_nodes=None,\n",
       "                      min_impurity_decrease=0.0, min_impurity_split=None,\n",
       "                      min_samples_leaf=4, min_samples_split=30,\n",
       "                      min_weight_fraction_leaf=0.0, n_estimators=50,\n",
       "                      n_jobs=None, oob_score=False, random_state=None,\n",
       "                      verbose=0, warm_start=False)"
      ]
     },
     "execution_count": 380,
     "metadata": {},
     "output_type": "execute_result"
    }
   ],
   "source": [
    "rf = RandomForestRegressor(max_depth= 60, min_samples_leaf= 4, min_samples_split= 30, n_estimators = 50)\n",
    "rf.fit(X_train_scaled, y_train)"
   ]
  },
  {
   "cell_type": "code",
   "execution_count": 375,
   "metadata": {},
   "outputs": [
    {
     "name": "stdout",
     "output_type": "stream",
     "text": [
      "Fitting 10 folds for each of 54 candidates, totalling 540 fits\n"
     ]
    },
    {
     "name": "stderr",
     "output_type": "stream",
     "text": [
      "[Parallel(n_jobs=-1)]: Using backend LokyBackend with 8 concurrent workers.\n",
      "[Parallel(n_jobs=-1)]: Done  54 tasks      | elapsed:    5.8s\n",
      "[Parallel(n_jobs=-1)]: Done 207 tasks      | elapsed:   19.5s\n",
      "[Parallel(n_jobs=-1)]: Done 457 tasks      | elapsed:  1.2min\n",
      "[Parallel(n_jobs=-1)]: Done 540 out of 540 | elapsed:  1.8min finished\n",
      "C:\\Users\\mariu\\Anaconda3\\lib\\site-packages\\sklearn\\model_selection\\_search.py:814: DeprecationWarning: The default of the `iid` parameter will change from True to False in version 0.22 and will be removed in 0.24. This will change numeric results when test-set sizes are unequal.\n",
      "  DeprecationWarning)\n"
     ]
    },
    {
     "data": {
      "text/plain": [
       "({'C': 1, 'max_iter': 7000}, -162.774691758675)"
      ]
     },
     "execution_count": 375,
     "metadata": {},
     "output_type": "execute_result"
    }
   ],
   "source": [
    "Cs = [1, 2, 5, 8, 10, 20]\n",
    "param_grid_svr = {'C': Cs, 'max_iter': range(1000, 10000, 1000)}\n",
    "\n",
    "svr_cv = GridSearchCV(estimator = LinearSVR(), param_grid = param_grid_svr, cv=10, n_jobs = -1, verbose = 1)\n",
    "svr_cv.fit(X_train_scaled, y_train)\n",
    "svr_cv.best_params_, svr_cv.score(X_train_scaled, y_train)"
   ]
  },
  {
   "cell_type": "code",
   "execution_count": 358,
   "metadata": {},
   "outputs": [
    {
     "data": {
      "text/plain": [
       "LinearSVR(C=1, dual=True, epsilon=0.0, fit_intercept=True,\n",
       "          intercept_scaling=1.0, loss='epsilon_insensitive', max_iter=5000,\n",
       "          random_state=None, tol=0.0001, verbose=0)"
      ]
     },
     "execution_count": 358,
     "metadata": {},
     "output_type": "execute_result"
    }
   ],
   "source": [
    "svr = LinearSVR(C=1, max_iter = 7000)\n",
    "svr.fit(X_train_scaled, y_train)"
   ]
  },
  {
   "cell_type": "code",
   "execution_count": 381,
   "metadata": {},
   "outputs": [
    {
     "name": "stdout",
     "output_type": "stream",
     "text": [
      "Fitting 10 folds for each of 40 candidates, totalling 400 fits\n"
     ]
    },
    {
     "name": "stderr",
     "output_type": "stream",
     "text": [
      "[Parallel(n_jobs=4)]: Using backend LokyBackend with 4 concurrent workers.\n",
      "[Parallel(n_jobs=4)]: Done  33 tasks      | elapsed:   45.9s\n",
      "[Parallel(n_jobs=4)]: Done 154 tasks      | elapsed:  4.6min\n",
      "[Parallel(n_jobs=4)]: Done 357 tasks      | elapsed:  9.2min\n",
      "[Parallel(n_jobs=4)]: Done 400 out of 400 | elapsed: 10.1min finished\n",
      "C:\\Users\\mariu\\Anaconda3\\lib\\site-packages\\sklearn\\model_selection\\_search.py:814: DeprecationWarning: The default of the `iid` parameter will change from True to False in version 0.22 and will be removed in 0.24. This will change numeric results when test-set sizes are unequal.\n",
      "  DeprecationWarning)\n"
     ]
    },
    {
     "data": {
      "text/plain": [
       "({'weights': (3, 1, 0)}, 0.9904758754899454)"
      ]
     },
     "execution_count": 381,
     "metadata": {},
     "output_type": "execute_result"
    }
   ],
   "source": [
    "ensemble_regression = VotingRegressor([('random_forest', rf), ('gradient_boosting', grad_boost), ('SVR', svr)])\n",
    "\n",
    "param_ensemble = {'weights': [(2,1,1),(2,2,1),(2,1,2),(1,2,2),(1,1,2),(1,2,1),\n",
    "                             (1,1,1),(1,0,2),(2,0,1),(0,1,2),(0,2,1),(2,1,0),(1,2,0),\n",
    "                              (3,3,2),(3,2,3),(2,3,3),(2,2,3),(2,3,2),(3,2,2),(3,2,1),(3,1,2),(1,3,2),(2,3,1),(2,1,3),\n",
    "                              (1,2,3), (3,1,1),(1,3,1),(1,1,3),(3,2,0),(3,0,2),(0,3,2),(2,3,0),(0,2,3),(2,0,3),\n",
    "                              (3,1,0),(3,0,1),(1,3,0),(0,3,1),(0,1,3),(1,3,0)\n",
    "                             ]}\n",
    "ensemble_cv = GridSearchCV(estimator = ensemble_regression, param_grid = param_ensemble , cv=10, n_jobs = 4, verbose = 2)\n",
    "ensemble_cv.fit(X_train_scaled, y_train)\n",
    "\n",
    "ensemble_cv.best_params_, ensemble_cv.score(X_train_scaled, y_train)"
   ]
  },
  {
   "cell_type": "code",
   "execution_count": 382,
   "metadata": {
    "scrolled": true
   },
   "outputs": [
    {
     "data": {
      "text/plain": [
       "VotingRegressor(estimators=[('random_forest',\n",
       "                             RandomForestRegressor(bootstrap=True,\n",
       "                                                   criterion='mse',\n",
       "                                                   max_depth=60,\n",
       "                                                   max_features='auto',\n",
       "                                                   max_leaf_nodes=None,\n",
       "                                                   min_impurity_decrease=0.0,\n",
       "                                                   min_impurity_split=None,\n",
       "                                                   min_samples_leaf=4,\n",
       "                                                   min_samples_split=30,\n",
       "                                                   min_weight_fraction_leaf=0.0,\n",
       "                                                   n_estimators=50, n_jobs=None,\n",
       "                                                   oob_score=False,\n",
       "                                                   random_state=None, verbose=0,\n",
       "                                                   warm_sta...\n",
       "                                                       min_weight_fraction_leaf=0.0,\n",
       "                                                       n_estimators=180,\n",
       "                                                       n_iter_no_change=None,\n",
       "                                                       presort='auto',\n",
       "                                                       random_state=1,\n",
       "                                                       subsample=1.0,\n",
       "                                                       tol=0.0001,\n",
       "                                                       validation_fraction=0.1,\n",
       "                                                       verbose=0,\n",
       "                                                       warm_start=False)),\n",
       "                            ('SVR',\n",
       "                             LinearSVR(C=1, dual=True, epsilon=0.0,\n",
       "                                       fit_intercept=True,\n",
       "                                       intercept_scaling=1.0,\n",
       "                                       loss='epsilon_insensitive',\n",
       "                                       max_iter=5000, random_state=None,\n",
       "                                       tol=0.0001, verbose=0))],\n",
       "                n_jobs=None, weights=(3, 1, 0))"
      ]
     },
     "execution_count": 382,
     "metadata": {},
     "output_type": "execute_result"
    }
   ],
   "source": [
    "voting_reg = VotingRegressor([('random_forest', rf), ('gradient_boosting', grad_boost), ('SVR', svr)], weights = (3,1,0))\n",
    "voting_reg.fit(X_train_scaled, y_train)"
   ]
  },
  {
   "cell_type": "code",
   "execution_count": 269,
   "metadata": {},
   "outputs": [],
   "source": [
    "from sklearn.model_selection import cross_val_score\n",
    "from sklearn.metrics import mean_squared_error, r2_score\n",
    "\n",
    "\n",
    "def display_score(reg, mse_reg, r2):\n",
    "    \n",
    "    \"\"\" Insert explanation \"\"\"\n",
    "    \n",
    "    reg_rmse = np.sqrt(-mse_reg)\n",
    "    \n",
    "    print('MSE                                  ')\n",
    "    print('Scores:', reg_rmse, reg)\n",
    "    print('Mean:', reg_rmse.mean(), reg)\n",
    "    print('standard Deviation:', reg_rmse.std(), reg)\n",
    "    print('R2                                   ')\n",
    "    print('Scores:', r2, reg)\n",
    "    print('Mean:', r2.mean(), reg)\n",
    "    print('standard Deviation:', r2.std(), reg)"
   ]
  },
  {
   "cell_type": "code",
   "execution_count": 383,
   "metadata": {},
   "outputs": [
    {
     "name": "stdout",
     "output_type": "stream",
     "text": [
      "MSE                                  \n",
      "Scores: [32345.47976408 32760.59915955  1323.57890206  1678.36898552\n",
      "  1587.84273238  1339.54993649 12519.73702012  7775.66956973\n",
      "  3750.1725834   2113.87499881] Gradient Boosting\n",
      "Mean: 9719.487365215142 Gradient Boosting\n",
      "standard Deviation: 11913.958655286326 Gradient Boosting\n",
      "R2                                   \n",
      "Scores: [ 0.17446902  0.40100545  0.41550198  0.32931044  0.57276722  0.62812933\n",
      "  0.59793761 -0.68760007  0.74877784  0.74779479] Gradient Boosting\n",
      "Mean: 0.3928093601631192 Gradient Boosting\n",
      "standard Deviation: 0.400267088226607 Gradient Boosting\n"
     ]
    }
   ],
   "source": [
    "\"\"\" Gradient Boosting\"\"\"\n",
    "\n",
    "mse_gb_train = cross_val_score(grad_boost, X_train_scaled, y_train, scoring = 'neg_mean_squared_error', cv = 10, n_jobs = -1)\n",
    "r2_gb_train = cross_val_score(grad_boost, X_train_scaled, y_train, scoring = 'r2', cv = 10, n_jobs = -1)\n",
    "display_score(\"Gradient Boosting\", mse_gb_train, r2_gb_train)"
   ]
  },
  {
   "cell_type": "code",
   "execution_count": 384,
   "metadata": {},
   "outputs": [
    {
     "name": "stdout",
     "output_type": "stream",
     "text": [
      "MSE                                  \n",
      "Scores: [29789.1387013  30597.10385902  1036.0257341   1179.91791612\n",
      "  1285.47486777  1689.69791983 15589.42037887  4608.48141658\n",
      "  6299.38560138  1636.48680986] RF\n",
      "Mean: 9371.113320483139 RF\n",
      "standard Deviation: 11220.514504818224 RF\n",
      "R2                                   \n",
      "Scores: [0.48969702 0.46773412 0.66618032 0.6652437  0.71402199 0.46237396\n",
      " 0.37431025 0.40821733 0.32074952 0.84907856] RF\n",
      "Mean: 0.5417606775417128 RF\n",
      "standard Deviation: 0.16249884644128773 RF\n"
     ]
    }
   ],
   "source": [
    "mse_rf_train = cross_val_score(rf, X_train_scaled, y_train, scoring = 'neg_mean_squared_error', cv = 10, n_jobs = -1)\n",
    "r2_rf_train = cross_val_score(rf, X_train_scaled, y_train, scoring = 'r2', cv = 10, n_jobs = -1)\n",
    "display_score(\"RF\", mse_rf_train, r2_rf_train)"
   ]
  },
  {
   "cell_type": "code",
   "execution_count": 385,
   "metadata": {},
   "outputs": [
    {
     "name": "stdout",
     "output_type": "stream",
     "text": [
      "MSE                                  \n",
      "Scores: [ 34875.78177371  43111.83316813 140159.02975177   1760.85943797\n",
      "   2061.29887712   1867.72279096  21058.40393514   5537.90623589\n",
      "   7717.73443325   3799.13925351] SVR\n",
      "Mean: 26194.970965744524 SVR\n",
      "standard Deviation: 40517.52525575574 SVR\n",
      "R2                                   \n",
      "Scores: [ 4.01599680e-02 -3.66355155e-02 -7.59917704e+03  2.61900955e-01\n",
      "  2.80263716e-01  2.77942558e-01 -1.38274014e-01  1.43506013e-01\n",
      " -6.52122560e-02  1.83380891e-01] SVR\n",
      "Mean: -759.8230012183772 SVR\n",
      "standard Deviation: 2279.784685595608 SVR\n"
     ]
    }
   ],
   "source": [
    "mse_rf_train = cross_val_score(svr, X_train_scaled, y_train, scoring = 'neg_mean_squared_error', cv = 10, n_jobs = -1)\n",
    "r2_rf_train = cross_val_score(svr, X_train_scaled, y_train, scoring = 'r2', cv = 10, n_jobs = -1)\n",
    "display_score(\"SVR\", mse_rf_train, r2_rf_train)"
   ]
  },
  {
   "cell_type": "code",
   "execution_count": 386,
   "metadata": {},
   "outputs": [
    {
     "name": "stdout",
     "output_type": "stream",
     "text": [
      "MSE                                  \n",
      "Scores: [26163.17186258 31120.91404656  1047.43432349  1213.67503454\n",
      "  1303.84822922  1291.72869611 14815.13310429  4656.21409358\n",
      "  5768.47542782  1415.91635731] Ensemble\n",
      "Mean: 8879.651117550844 Ensemble\n",
      "standard Deviation: 10709.473137210174 Ensemble\n",
      "R2                                   \n",
      "Scores: [0.28481529 0.45888252 0.65729293 0.65601665 0.70413597 0.41275058\n",
      " 0.43158296 0.19574248 0.41683233 0.88098995] Ensemble\n",
      "Mean: 0.5099041666041908 Ensemble\n",
      "standard Deviation: 0.19867162119062726 Ensemble\n"
     ]
    }
   ],
   "source": [
    "mse_rf_train = cross_val_score(voting_reg, X_train_scaled, y_train, scoring = 'neg_mean_squared_error', cv = 10, n_jobs = -1)\n",
    "r2_rf_train = cross_val_score(voting_reg, X_train_scaled, y_train, scoring = 'r2', cv = 10, n_jobs = -1)\n",
    "display_score(\"Ensemble\", mse_rf_train, r2_rf_train)\n",
    "\n",
    "# -> Voting regression with weight combination 3,2,1 appears to be the most credible estimator\n",
    "# Let's check out the redictions"
   ]
  },
  {
   "cell_type": "code",
   "execution_count": 387,
   "metadata": {},
   "outputs": [],
   "source": [
    "rf_pred = rf.predict(X_test_scaled)\n",
    "\n",
    "rf_pred = pd.DataFrame({'Prediction': ensemble_regression_pred, 'Votes': dataframe_test['votes'], 'city': dataframe_test['city'],\n",
    "                                      'party': dataframe_test['party'], 'last_name': dataframe_test['last_name'], 'city_id': dataframe_test['city_id'],\n",
    "                                     'county_id': dataframe_test['county_id'], 'first_name': dataframe_test['first_name'],\n",
    "                                      'place_list': dataframe_test['place_list']})\n",
    "\n",
    "rf_pred.to_excel(r'C:\\Users\\mariu\\Documents\\Project Local Elections\\forecast_candidates.xlsx')"
   ]
  },
  {
   "cell_type": "code",
   "execution_count": 389,
   "metadata": {},
   "outputs": [
    {
     "data": {
      "text/html": [
       "<div>\n",
       "<style scoped>\n",
       "    .dataframe tbody tr th:only-of-type {\n",
       "        vertical-align: middle;\n",
       "    }\n",
       "\n",
       "    .dataframe tbody tr th {\n",
       "        vertical-align: top;\n",
       "    }\n",
       "\n",
       "    .dataframe thead th {\n",
       "        text-align: right;\n",
       "    }\n",
       "</style>\n",
       "<table border=\"1\" class=\"dataframe\">\n",
       "  <thead>\n",
       "    <tr style=\"text-align: right;\">\n",
       "      <th></th>\n",
       "      <th>Variable</th>\n",
       "      <th>Coefficients RF</th>\n",
       "    </tr>\n",
       "  </thead>\n",
       "  <tbody>\n",
       "    <tr>\n",
       "      <td>0</td>\n",
       "      <td>female_total_x</td>\n",
       "      <td>3.191853e-02</td>\n",
       "    </tr>\n",
       "    <tr>\n",
       "      <td>1</td>\n",
       "      <td>cost_o_liv</td>\n",
       "      <td>7.180290e-03</td>\n",
       "    </tr>\n",
       "    <tr>\n",
       "      <td>2</td>\n",
       "      <td>asyl</td>\n",
       "      <td>3.579835e-02</td>\n",
       "    </tr>\n",
       "    <tr>\n",
       "      <td>3</td>\n",
       "      <td>BP_votes</td>\n",
       "      <td>8.036199e-03</td>\n",
       "    </tr>\n",
       "    <tr>\n",
       "      <td>4</td>\n",
       "      <td>CSU_votes</td>\n",
       "      <td>3.982262e-02</td>\n",
       "    </tr>\n",
       "    <tr>\n",
       "      <td>5</td>\n",
       "      <td>SPD_votes</td>\n",
       "      <td>3.574540e-02</td>\n",
       "    </tr>\n",
       "    <tr>\n",
       "      <td>6</td>\n",
       "      <td>Linke_votes</td>\n",
       "      <td>5.588868e-02</td>\n",
       "    </tr>\n",
       "    <tr>\n",
       "      <td>7</td>\n",
       "      <td>FDP_votes</td>\n",
       "      <td>4.221969e-02</td>\n",
       "    </tr>\n",
       "    <tr>\n",
       "      <td>8</td>\n",
       "      <td>Grüne_votes</td>\n",
       "      <td>3.486569e-02</td>\n",
       "    </tr>\n",
       "    <tr>\n",
       "      <td>9</td>\n",
       "      <td>AfD</td>\n",
       "      <td>6.582809e-05</td>\n",
       "    </tr>\n",
       "    <tr>\n",
       "      <td>10</td>\n",
       "      <td>BP</td>\n",
       "      <td>3.300102e-04</td>\n",
       "    </tr>\n",
       "    <tr>\n",
       "      <td>11</td>\n",
       "      <td>CSU</td>\n",
       "      <td>2.500088e-01</td>\n",
       "    </tr>\n",
       "    <tr>\n",
       "      <td>12</td>\n",
       "      <td>FDP</td>\n",
       "      <td>3.775988e-04</td>\n",
       "    </tr>\n",
       "    <tr>\n",
       "      <td>13</td>\n",
       "      <td>FW</td>\n",
       "      <td>3.464834e-05</td>\n",
       "    </tr>\n",
       "    <tr>\n",
       "      <td>14</td>\n",
       "      <td>Grüne</td>\n",
       "      <td>4.180602e-02</td>\n",
       "    </tr>\n",
       "    <tr>\n",
       "      <td>15</td>\n",
       "      <td>Linke</td>\n",
       "      <td>1.115646e-05</td>\n",
       "    </tr>\n",
       "    <tr>\n",
       "      <td>16</td>\n",
       "      <td>SPD</td>\n",
       "      <td>2.369039e-01</td>\n",
       "    </tr>\n",
       "    <tr>\n",
       "      <td>17</td>\n",
       "      <td>age0_5</td>\n",
       "      <td>4.891002e-03</td>\n",
       "    </tr>\n",
       "    <tr>\n",
       "      <td>18</td>\n",
       "      <td>age15_18</td>\n",
       "      <td>6.772167e-03</td>\n",
       "    </tr>\n",
       "    <tr>\n",
       "      <td>19</td>\n",
       "      <td>age18_24</td>\n",
       "      <td>1.367301e-02</td>\n",
       "    </tr>\n",
       "    <tr>\n",
       "      <td>20</td>\n",
       "      <td>age25_30</td>\n",
       "      <td>1.618704e-03</td>\n",
       "    </tr>\n",
       "    <tr>\n",
       "      <td>21</td>\n",
       "      <td>age30_40</td>\n",
       "      <td>4.348911e-03</td>\n",
       "    </tr>\n",
       "    <tr>\n",
       "      <td>22</td>\n",
       "      <td>age40_50</td>\n",
       "      <td>1.403213e-02</td>\n",
       "    </tr>\n",
       "    <tr>\n",
       "      <td>23</td>\n",
       "      <td>age50_65</td>\n",
       "      <td>6.919337e-03</td>\n",
       "    </tr>\n",
       "    <tr>\n",
       "      <td>24</td>\n",
       "      <td>age65plus</td>\n",
       "      <td>9.517958e-03</td>\n",
       "    </tr>\n",
       "    <tr>\n",
       "      <td>25</td>\n",
       "      <td>age6_14</td>\n",
       "      <td>4.197669e-03</td>\n",
       "    </tr>\n",
       "    <tr>\n",
       "      <td>26</td>\n",
       "      <td>anteil_einkommensteuer</td>\n",
       "      <td>4.699580e-03</td>\n",
       "    </tr>\n",
       "    <tr>\n",
       "      <td>27</td>\n",
       "      <td>anteil_umsatzsteuer</td>\n",
       "      <td>2.859403e-03</td>\n",
       "    </tr>\n",
       "    <tr>\n",
       "      <td>28</td>\n",
       "      <td>capital_crimes</td>\n",
       "      <td>4.676776e-02</td>\n",
       "    </tr>\n",
       "    <tr>\n",
       "      <td>29</td>\n",
       "      <td>doctor</td>\n",
       "      <td>4.034645e-05</td>\n",
       "    </tr>\n",
       "    <tr>\n",
       "      <td>30</td>\n",
       "      <td>gewerbesteuerumlage</td>\n",
       "      <td>7.543099e-04</td>\n",
       "    </tr>\n",
       "    <tr>\n",
       "      <td>31</td>\n",
       "      <td>importance_climate</td>\n",
       "      <td>0.000000e+00</td>\n",
       "    </tr>\n",
       "    <tr>\n",
       "      <td>32</td>\n",
       "      <td>importance_social_sec</td>\n",
       "      <td>0.000000e+00</td>\n",
       "    </tr>\n",
       "    <tr>\n",
       "      <td>33</td>\n",
       "      <td>incumbent</td>\n",
       "      <td>2.879206e-03</td>\n",
       "    </tr>\n",
       "    <tr>\n",
       "      <td>34</td>\n",
       "      <td>istaufkommen</td>\n",
       "      <td>6.251234e-04</td>\n",
       "    </tr>\n",
       "    <tr>\n",
       "      <td>35</td>\n",
       "      <td>mayor</td>\n",
       "      <td>0.000000e+00</td>\n",
       "    </tr>\n",
       "    <tr>\n",
       "      <td>36</td>\n",
       "      <td>muslim</td>\n",
       "      <td>2.383471e-06</td>\n",
       "    </tr>\n",
       "    <tr>\n",
       "      <td>37</td>\n",
       "      <td>new_list</td>\n",
       "      <td>1.510898e-05</td>\n",
       "    </tr>\n",
       "    <tr>\n",
       "      <td>38</td>\n",
       "      <td>non_muslim_migrant</td>\n",
       "      <td>2.184453e-07</td>\n",
       "    </tr>\n",
       "    <tr>\n",
       "      <td>39</td>\n",
       "      <td>place_list</td>\n",
       "      <td>2.363923e-02</td>\n",
       "    </tr>\n",
       "    <tr>\n",
       "      <td>40</td>\n",
       "      <td>globalisation</td>\n",
       "      <td>0.000000e+00</td>\n",
       "    </tr>\n",
       "    <tr>\n",
       "      <td>41</td>\n",
       "      <td>politician</td>\n",
       "      <td>4.003367e-06</td>\n",
       "    </tr>\n",
       "    <tr>\n",
       "      <td>42</td>\n",
       "      <td>royal</td>\n",
       "      <td>0.000000e+00</td>\n",
       "    </tr>\n",
       "    <tr>\n",
       "      <td>43</td>\n",
       "      <td>search_result_stan</td>\n",
       "      <td>1.135691e-04</td>\n",
       "    </tr>\n",
       "    <tr>\n",
       "      <td>44</td>\n",
       "      <td>steuern_total</td>\n",
       "      <td>6.585079e-03</td>\n",
       "    </tr>\n",
       "    <tr>\n",
       "      <td>45</td>\n",
       "      <td>students</td>\n",
       "      <td>1.929355e-03</td>\n",
       "    </tr>\n",
       "    <tr>\n",
       "      <td>46</td>\n",
       "      <td>total_foreigner</td>\n",
       "      <td>3.357226e-04</td>\n",
       "    </tr>\n",
       "    <tr>\n",
       "      <td>47</td>\n",
       "      <td>total_pop</td>\n",
       "      <td>1.016730e-02</td>\n",
       "    </tr>\n",
       "    <tr>\n",
       "      <td>48</td>\n",
       "      <td>total_unemployed</td>\n",
       "      <td>7.221679e-03</td>\n",
       "    </tr>\n",
       "    <tr>\n",
       "      <td>49</td>\n",
       "      <td>unemployed_longtime</td>\n",
       "      <td>4.345479e-03</td>\n",
       "    </tr>\n",
       "    <tr>\n",
       "      <td>50</td>\n",
       "      <td>youth_list</td>\n",
       "      <td>9.394437e-07</td>\n",
       "    </tr>\n",
       "    <tr>\n",
       "      <td>51</td>\n",
       "      <td>ödp</td>\n",
       "      <td>2.995978e-05</td>\n",
       "    </tr>\n",
       "  </tbody>\n",
       "</table>\n",
       "</div>"
      ],
      "text/plain": [
       "                  Variable  Coefficients RF\n",
       "0           female_total_x     3.191853e-02\n",
       "1               cost_o_liv     7.180290e-03\n",
       "2                     asyl     3.579835e-02\n",
       "3                 BP_votes     8.036199e-03\n",
       "4                CSU_votes     3.982262e-02\n",
       "5                SPD_votes     3.574540e-02\n",
       "6              Linke_votes     5.588868e-02\n",
       "7                FDP_votes     4.221969e-02\n",
       "8              Grüne_votes     3.486569e-02\n",
       "9                      AfD     6.582809e-05\n",
       "10                      BP     3.300102e-04\n",
       "11                     CSU     2.500088e-01\n",
       "12                     FDP     3.775988e-04\n",
       "13                      FW     3.464834e-05\n",
       "14                   Grüne     4.180602e-02\n",
       "15                   Linke     1.115646e-05\n",
       "16                     SPD     2.369039e-01\n",
       "17                  age0_5     4.891002e-03\n",
       "18                age15_18     6.772167e-03\n",
       "19                age18_24     1.367301e-02\n",
       "20                age25_30     1.618704e-03\n",
       "21                age30_40     4.348911e-03\n",
       "22                age40_50     1.403213e-02\n",
       "23                age50_65     6.919337e-03\n",
       "24               age65plus     9.517958e-03\n",
       "25                 age6_14     4.197669e-03\n",
       "26  anteil_einkommensteuer     4.699580e-03\n",
       "27     anteil_umsatzsteuer     2.859403e-03\n",
       "28          capital_crimes     4.676776e-02\n",
       "29                  doctor     4.034645e-05\n",
       "30     gewerbesteuerumlage     7.543099e-04\n",
       "31      importance_climate     0.000000e+00\n",
       "32   importance_social_sec     0.000000e+00\n",
       "33               incumbent     2.879206e-03\n",
       "34            istaufkommen     6.251234e-04\n",
       "35                   mayor     0.000000e+00\n",
       "36                  muslim     2.383471e-06\n",
       "37                new_list     1.510898e-05\n",
       "38      non_muslim_migrant     2.184453e-07\n",
       "39              place_list     2.363923e-02\n",
       "40           globalisation     0.000000e+00\n",
       "41              politician     4.003367e-06\n",
       "42                   royal     0.000000e+00\n",
       "43      search_result_stan     1.135691e-04\n",
       "44           steuern_total     6.585079e-03\n",
       "45                students     1.929355e-03\n",
       "46         total_foreigner     3.357226e-04\n",
       "47               total_pop     1.016730e-02\n",
       "48        total_unemployed     7.221679e-03\n",
       "49     unemployed_longtime     4.345479e-03\n",
       "50              youth_list     9.394437e-07\n",
       "51                     ödp     2.995978e-05"
      ]
     },
     "execution_count": 389,
     "metadata": {},
     "output_type": "execute_result"
    }
   ],
   "source": [
    "list_coefficients = pd.DataFrame({'Variable': X_train.columns, 'Coefficients RF':rf.feature_importances_\n",
    "                                 })\n",
    "list_coefficients"
   ]
  }
 ],
 "metadata": {
  "kernelspec": {
   "display_name": "Python 3",
   "language": "python",
   "name": "python3"
  },
  "language_info": {
   "codemirror_mode": {
    "name": "ipython",
    "version": 3
   },
   "file_extension": ".py",
   "mimetype": "text/x-python",
   "name": "python",
   "nbconvert_exporter": "python",
   "pygments_lexer": "ipython3",
   "version": "3.7.4"
  }
 },
 "nbformat": 4,
 "nbformat_minor": 2
}
