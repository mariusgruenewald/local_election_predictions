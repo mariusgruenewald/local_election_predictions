{
 "cells": [
  {
   "cell_type": "code",
   "execution_count": 1,
   "metadata": {},
   "outputs": [],
   "source": [
    "import pandas as pd"
   ]
  },
  {
   "cell_type": "code",
   "execution_count": 2,
   "metadata": {},
   "outputs": [],
   "source": [
    "dataframe = pd.read_excel(r'C:\\Users\\mariu\\Documents\\Project Local Elections\\Bayern_historisch.xlsx')"
   ]
  },
  {
   "cell_type": "code",
   "execution_count": 13,
   "metadata": {},
   "outputs": [],
   "source": [
    "# The last federal election before the respective local election\n",
    "dataframe['last_fed_election'] = 0\n",
    "dataframe.loc[(dataframe['party'] == 'CSU') & (dataframe['year'] == 2014), 'last_fed_election'] = 41.5\n",
    "dataframe.loc[(dataframe['party'] == 'SPD') & (dataframe['year'] == 2014), 'last_fed_election'] = 25.7\n",
    "dataframe.loc[(dataframe['party'] == 'Grüne') & (dataframe['year'] == 2014), 'last_fed_election'] = 8.4\n",
    "dataframe.loc[(dataframe['party'] == 'Linke') & (dataframe['year'] == 2014), 'last_fed_election'] = 4.8\n",
    "dataframe.loc[(dataframe['party'] == 'FDP') & (dataframe['year'] == 2014), 'last_fed_election'] = 8.6\n",
    "dataframe.loc[(dataframe['party'] == 'AfD') & (dataframe['year'] == 2014), 'last_fed_election'] = 4.7\n",
    "dataframe.loc[(dataframe['party'] == 'CSU') & (dataframe['year'] == 2008), 'last_fed_election'] = 35.2\n",
    "dataframe.loc[(dataframe['party'] == 'SPD') & (dataframe['year'] == 2008), 'last_fed_election'] = 34.2\n",
    "dataframe.loc[(dataframe['party'] == 'Grüne') & (dataframe['year'] == 2008), 'last_fed_election'] = 8.1\n",
    "dataframe.loc[(dataframe['party'] == 'Linke') & (dataframe['year'] == 2008), 'last_fed_election'] = 9.8\n",
    "dataframe.loc[(dataframe['party'] == 'FDP') & (dataframe['year'] == 2008), 'last_fed_election'] = 8.7\n",
    "dataframe.loc[(dataframe['party'] == 'CSU') & (dataframe['year'] == 2002), 'last_fed_election'] = 35.1\n",
    "dataframe.loc[(dataframe['party'] == 'SPD') & (dataframe['year'] == 2002), 'last_fed_election'] = 40.9\n",
    "dataframe.loc[(dataframe['party'] == 'Grüne') & (dataframe['year'] == 2002), 'last_fed_election'] = 6.7\n",
    "dataframe.loc[(dataframe['party'] == 'Linke') & (dataframe['year'] == 2002), 'last_fed_election'] = 5.4\n",
    "dataframe.loc[(dataframe['party'] == 'FDP') & (dataframe['year'] == 2002), 'last_fed_election'] = 6.2"
   ]
  },
  {
   "cell_type": "code",
   "execution_count": 14,
   "metadata": {},
   "outputs": [],
   "source": [
    "# Average of pollsters (two weeks before election)\n",
    "dataframe['last_survey_before_election'] = 0\n",
    "dataframe.loc[(dataframe['party'] == 'CSU') & (dataframe['year'] == 2014), 'last_survey_before_election'] = 40.9\n",
    "dataframe.loc[(dataframe['party'] == 'SPD') & (dataframe['year'] == 2014), 'last_survey_before_election'] = 24.4\n",
    "dataframe.loc[(dataframe['party'] == 'Grüne') & (dataframe['year'] == 2014), 'last_survey_before_election'] = 10.1\n",
    "dataframe.loc[(dataframe['party'] == 'Linke') & (dataframe['year'] == 2014), 'last_survey_before_election'] = 9.4\n",
    "dataframe.loc[(dataframe['party'] == 'FDP') & (dataframe['year'] == 2014), 'last_survey_before_election'] = 4.3\n",
    "dataframe.loc[(dataframe['party'] == 'AfD') & (dataframe['year'] == 2014), 'last_survey_before_election'] = 4.9\n",
    "dataframe.loc[(dataframe['party'] == 'CSU') & (dataframe['year'] == 2008), 'last_survey_before_election'] = 36.6\n",
    "dataframe.loc[(dataframe['party'] == 'SPD') & (dataframe['year'] == 2008), 'last_survey_before_election'] = 28.3\n",
    "dataframe.loc[(dataframe['party'] == 'Grüne') & (dataframe['year'] == 2008), 'last_survey_before_election'] = 9.0\n",
    "dataframe.loc[(dataframe['party'] == 'Linke') & (dataframe['year'] == 2008), 'last_survey_before_election'] = 10.0\n",
    "dataframe.loc[(dataframe['party'] == 'FDP') & (dataframe['year'] == 2008), 'last_survey_before_election'] = 12.0\n",
    "dataframe.loc[(dataframe['party'] == 'CSU') & (dataframe['year'] == 2002), 'last_survey_before_election'] = 40.5\n",
    "dataframe.loc[(dataframe['party'] == 'SPD') & (dataframe['year'] == 2002), 'last_survey_before_election'] = 36.2\n",
    "dataframe.loc[(dataframe['party'] == 'Grüne') & (dataframe['year'] == 2002), 'last_survey_before_election'] = 5.6\n",
    "dataframe.loc[(dataframe['party'] == 'Linke') & (dataframe['year'] == 2002), 'last_survey_before_election'] = 8.8\n",
    "dataframe.loc[(dataframe['party'] == 'FDP') & (dataframe['year'] == 2002), 'last_survey_before_election'] = 5.7"
   ]
  },
  {
   "cell_type": "code",
   "execution_count": 16,
   "metadata": {},
   "outputs": [],
   "source": [
    "dataframe['political_mood'] = dataframe['last_survey_before_election'] - dataframe['last_fed_election']\n",
    "dataframe.to_excel(r'C:\\Users\\mariu\\Documents\\Project Local Elections\\bayern_historisch.xlsx')"
   ]
  }
 ],
 "metadata": {
  "kernelspec": {
   "display_name": "Python 3",
   "language": "python",
   "name": "python3"
  },
  "language_info": {
   "codemirror_mode": {
    "name": "ipython",
    "version": 3
   },
   "file_extension": ".py",
   "mimetype": "text/x-python",
   "name": "python",
   "nbconvert_exporter": "python",
   "pygments_lexer": "ipython3",
   "version": "3.7.1"
  }
 },
 "nbformat": 4,
 "nbformat_minor": 2
}
