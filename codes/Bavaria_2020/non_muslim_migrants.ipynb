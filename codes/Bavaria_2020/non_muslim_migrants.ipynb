{
 "cells": [
  {
   "cell_type": "code",
   "execution_count": 1,
   "metadata": {},
   "outputs": [],
   "source": [
    "import pandas as pd"
   ]
  },
  {
   "cell_type": "code",
   "execution_count": 12,
   "metadata": {},
   "outputs": [],
   "source": [
    "dataframe_3 = pd.read_excel(r'C:\\Users\\mariu\\Documents\\Project Local Elections\\bayern_historisch.xlsx')"
   ]
  },
  {
   "cell_type": "code",
   "execution_count": 13,
   "metadata": {},
   "outputs": [],
   "source": [
    "dataframe_3['last_letter'] = dataframe_3.last_name.str[-1]\n",
    "dataframe_3['pre_last_letter'] = dataframe_3.last_name.str[-2]\n",
    "dataframe_3['third_last_letter'] = dataframe_3.last_name.str[-3]\n",
    "dataframe_3['fourth_last_letter'] = dataframe_3.last_name.str[-4]\n",
    "dataframe_3['fifth_last_letter'] = dataframe_3.last_name.str[-5]\n",
    "dataframe_3['sixth_last_letter'] = dataframe_3.last_name.str[-6]\n",
    "dataframe_3['seventh_last_letter'] = dataframe_3.last_name.str[-7]\n",
    "dataframe_3['eigth_last_letter'] = dataframe_3.last_name.str[-8]\n",
    "\n",
    "dataframe_3['last_letter_first_name'] = dataframe_3.first_name.str[-1]\n",
    "dataframe_3['pre_last_letter_first_name'] = dataframe_3.first_name.str[-2]\n",
    "dataframe_3['third_last_letter_first_name'] = dataframe_3.first_name.str[-3]\n"
   ]
  },
  {
   "cell_type": "code",
   "execution_count": 15,
   "metadata": {
    "collapsed": true
   },
   "outputs": [
    {
     "data": {
      "text/plain": [
       "0        0\n",
       "1        0\n",
       "2        0\n",
       "3        0\n",
       "4        0\n",
       "5        0\n",
       "6        0\n",
       "7        0\n",
       "8        0\n",
       "9        0\n",
       "10       0\n",
       "11       0\n",
       "12       0\n",
       "13       0\n",
       "14       0\n",
       "15       0\n",
       "16       0\n",
       "17       0\n",
       "18       0\n",
       "19       0\n",
       "20       0\n",
       "21       0\n",
       "22       0\n",
       "23       0\n",
       "24       0\n",
       "25       0\n",
       "26       0\n",
       "27       0\n",
       "28       0\n",
       "29       0\n",
       "        ..\n",
       "19808    0\n",
       "19809    0\n",
       "19810    0\n",
       "19811    0\n",
       "19812    0\n",
       "19813    0\n",
       "19814    0\n",
       "19815    0\n",
       "19816    0\n",
       "19817    0\n",
       "19818    0\n",
       "19819    0\n",
       "19820    0\n",
       "19821    0\n",
       "19822    0\n",
       "19823    0\n",
       "19824    0\n",
       "19825    0\n",
       "19826    0\n",
       "19827    0\n",
       "19828    0\n",
       "19829    0\n",
       "19830    0\n",
       "19831    0\n",
       "19832    0\n",
       "19833    0\n",
       "19834    0\n",
       "19835    0\n",
       "19836    0\n",
       "19837    0\n",
       "Name: non_muslim_migrant, Length: 19838, dtype: int64"
      ]
     },
     "execution_count": 15,
     "metadata": {},
     "output_type": "execute_result"
    }
   ],
   "source": [
    "# Generating column for non-muslim migrants\n",
    "dataframe_3['non_muslim_migrant'] = 0\n",
    "\n",
    "# Greek name structure\n",
    "dataframe_3.loc[(dataframe_3['last_letter'] == 'u') & (dataframe_3['pre_last_letter'] == 'o'), 'non_muslim_migrant' ] = 1\n",
    "dataframe_3.loc[(dataframe_3['last_letter'] == 's') & (dataframe_3['pre_last_letter'] == 'i')\n",
    "                & (dataframe_3['third_last_letter'] == 'd') & (dataframe_3['fourth_last_letter'] == 'i'), 'non_muslim_migrant' ] = 1\n",
    "dataframe_3.loc[(dataframe_3['last_letter'] == 's') & (dataframe_3['pre_last_letter'] == 'i')\n",
    "                & (dataframe_3['third_last_letter'] == 't') & (dataframe_3['fourth_last_letter'] == 'i'), 'non_muslim_migrant' ] = 1\n",
    "dataframe_3.loc[(dataframe_3['last_letter'] == 's') & (dataframe_3['pre_last_letter'] == 'i')\n",
    "                & (dataframe_3['third_last_letter'] == 'd') & (dataframe_3['fourth_last_letter'] == 'a'), 'non_muslim_migrant' ] = 1\n",
    "dataframe_3.loc[(dataframe_3['last_letter'] == 's') & (dataframe_3['pre_last_letter'] == 'o')\n",
    "                & (dataframe_3['third_last_letter'] == 's') & (dataframe_3['fourth_last_letter'] == 't')\n",
    "                , 'non_muslim_migrant' ] = 1\n",
    "dataframe_3.loc[(dataframe_3['last_letter'] == 's') & (dataframe_3['pre_last_letter'] == 'o')\n",
    "                & (dataframe_3['third_last_letter'] == 'l') & (dataframe_3['fourth_last_letter'] == 'u')\n",
    "                , 'non_muslim_migrant' ] = 1\n",
    "dataframe_3.loc[(dataframe_3['last_letter'] == 's') & (dataframe_3['pre_last_letter'] == 'o')\n",
    "                & (dataframe_3['third_last_letter'] == 'r'), 'non_muslim_migrant' ] = 1\n",
    "dataframe_3.loc[(dataframe_3['last_letter'] == 's') & (dataframe_3['pre_last_letter'] == 'o')\n",
    "                & (dataframe_3['third_last_letter'] == 'k'), 'non_muslim_migrant' ] = 1\n",
    "dataframe_3.loc[(dataframe_3['last_letter'] == 's') & (dataframe_3['pre_last_letter'] == 'o')\n",
    "                & (dataframe_3['third_last_letter'] == 's'), 'non_muslim_migrant' ] = 1\n",
    "dataframe_3.loc[(dataframe_3['last_letter'] == 's') & (dataframe_3['pre_last_letter'] == 'o')\n",
    "                & (dataframe_3['third_last_letter'] == 'n'), 'non_muslim_migrant' ] = 1\n",
    "dataframe_3.loc[(dataframe_3['last_letter'] == 's') & (dataframe_3['pre_last_letter'] == 'a')\n",
    "                & (dataframe_3['third_last_letter'] == 'r'), 'non_muslim_migrant' ] = 1\n",
    "\n",
    "dataframe_3['non_muslim_migrant']"
   ]
  },
  {
   "cell_type": "code",
   "execution_count": 16,
   "metadata": {},
   "outputs": [],
   "source": [
    "# Slavonik name structures (approx. 10%) - mostly Polish and Czech\n",
    "\n",
    "dataframe_3.loc[(dataframe_3['last_letter'] == 'i') & (dataframe_3['pre_last_letter'] == 'k')\n",
    "                & (dataframe_3['third_last_letter'] == 's'), 'non_muslim_migrant' ] = 1\n",
    "dataframe_3.loc[(dataframe_3['last_letter'] == 'y') & (dataframe_3['pre_last_letter'] == 'k')\n",
    "                & (dataframe_3['third_last_letter'] == 's'), 'non_muslim_migrant' ] = 1\n",
    "dataframe_3.loc[(dataframe_3['last_letter'] == 'k') & (dataframe_3['pre_last_letter'] == 'y')\n",
    "                & (dataframe_3['third_last_letter'] == 'z'), 'non_muslim_migrant' ] = 1\n",
    "dataframe_3.loc[(dataframe_3['last_letter'] == 'k') & (dataframe_3['pre_last_letter'] == 'a')\n",
    "                & (dataframe_3['third_last_letter'] == 'z')\n",
    "                , 'non_muslim_migrant' ] = 1\n",
    "dataframe_3.loc[(dataframe_3['last_letter'] == 'z') & (dataframe_3['pre_last_letter'] == 'c')\n",
    "                & (dataframe_3['third_last_letter'] == 'i'), 'non_muslim_migrant' ] = 1\n",
    "dataframe_3.loc[(dataframe_3['last_letter'] == 'k') & (dataframe_3['pre_last_letter'] == 'e')\n",
    "                , 'non_muslim_migrant' ] = 1\n",
    "dataframe_3.loc[(dataframe_3['last_letter'] == 'c') & (dataframe_3['pre_last_letter'] == 'i')\n",
    "                & (dataframe_3['third_last_letter'] == 'v'), 'non_muslim_migrant' ] = 1\n",
    "\n",
    "dataframe_3.loc[(dataframe_3['last_letter_first_name'] == 'v') & (dataframe_3['pre_last_letter_first_name'] == 'a')\n",
    "                & (dataframe_3['third_last_letter_first_name'] == 'l'), 'non_muslim_migrant' ] = 1\n",
    "dataframe_3.loc[(dataframe_3['last_letter_first_name'] == 'w') & (dataframe_3['pre_last_letter_first_name'] == 'e')\n",
    "                & (dataframe_3['third_last_letter_first_name'] == 'j'), 'non_muslim_migrant' ] = 1\n",
    "dataframe_3.loc[(dataframe_3['last_letter'] == 'y') & (dataframe_3['pre_last_letter'] == 'n')\n",
    "                , 'non_muslim_migrant' ] = 1"
   ]
  },
  {
   "cell_type": "code",
   "execution_count": 20,
   "metadata": {},
   "outputs": [],
   "source": [
    "# Italian Surnames\n",
    "\n",
    "dataframe_3.loc[(dataframe_3['last_letter'] == 'i') & (dataframe_3['pre_last_letter'] == 'n')\n",
    "                & (dataframe_3['third_last_letter'] == 'i'), 'non_muslim_migrant' ] = 1\n",
    "dataframe_3.loc[(dataframe_3['last_letter'] == 'a') & (dataframe_3['pre_last_letter'] == 'i')\n",
    "                , 'non_muslim_migrant' ] = 1\n",
    "dataframe_3.loc[(dataframe_3['last_letter'] == 'i') & (dataframe_3['pre_last_letter'] == 'n')\n",
    "                & (dataframe_3['third_last_letter'] == 'o'), 'non_muslim_migrant' ] = 1\n",
    "dataframe_3.loc[(dataframe_3['last_letter'] == 'i'), 'non_muslim_migrant' ] = 1\n",
    "dataframe_3.loc[(dataframe_3['last_letter'] == 'o'), 'non_muslim_migrant' ] = 1\n",
    "dataframe_3.loc[(dataframe_3['last_letter'] == 'e') & (dataframe_3['pre_last_letter'] == 'n')\n",
    "                & (dataframe_3['third_last_letter'] == 'o'), 'non_muslim_migrant' ] = 1\n",
    "dataframe_3.loc[(dataframe_3['last_letter'] == 'e') & (dataframe_3['pre_last_letter'] == 's')\n",
    "                & (dataframe_3['third_last_letter'] == 'e'), 'non_muslim_migrant' ] = 1\n",
    "\n",
    "dataframe_3.loc[(dataframe_3['last_name'] == 'Krone'), 'non_muslim_migrant'] = 0\n",
    "\n",
    "dataframe_4 = dataframe_3.drop(['last_letter_first_name', 'pre_last_letter_first_name', 'third_last_letter_first_name', \n",
    "                                'last_letter', 'pre_last_letter', 'third_last_letter', 'fourth_last_letter', 'fifth_last_letter', 'sixth_last_letter',\n",
    "                 'seventh_last_letter', 'eigth_last_letter'], axis = 1)"
   ]
  },
  {
   "cell_type": "code",
   "execution_count": 22,
   "metadata": {},
   "outputs": [],
   "source": [
    "dataframe_4.head()\n",
    "dataframe_4.to_excel(r'C:\\Users\\mariu\\Documents\\Project Local Elections\\bayern_historisch_migrants.xlsx')"
   ]
  }
 ],
 "metadata": {
  "kernelspec": {
   "display_name": "Python 3",
   "language": "python",
   "name": "python3"
  },
  "language_info": {
   "codemirror_mode": {
    "name": "ipython",
    "version": 3
   },
   "file_extension": ".py",
   "mimetype": "text/x-python",
   "name": "python",
   "nbconvert_exporter": "python",
   "pygments_lexer": "ipython3",
   "version": "3.7.1"
  }
 },
 "nbformat": 4,
 "nbformat_minor": 2
}
