{
 "cells": [
  {
   "cell_type": "code",
   "execution_count": 1,
   "metadata": {},
   "outputs": [],
   "source": [
    "import datetime\n",
    "import numpy as np\n",
    "import pandas as pd\n",
    "\n",
    "import chart_studio.plotly as py\n",
    "import plotly.graph_objects as go\n",
    "import chart_studio\n",
    "\n",
    "chart_studio.tools.set_credentials_file(username='marius92', api_key='4naxu3XiGZTGniWO02z1')"
   ]
  },
  {
   "cell_type": "code",
   "execution_count": 2,
   "metadata": {},
   "outputs": [],
   "source": [
    "d = {'party': ['CDU', 'SPD', 'CDU', 'SPD'], 'city': ['München', 'München', 'Nürnberg', 'Nürnberg'],\n",
    "    'mean': [30, 12, 9, 17], 'min': [21, 11, 8, 17], 'max': [31, 13, 12, 24], 'last': [35, 6, 2, 25],\n",
    "    'color': ['black', 'red', 'black', 'red'], 'range_color': ['grey', 'salmon', 'grey', 'salmon']}\n",
    "df = pd.DataFrame(data = d)\n"
   ]
  },
  {
   "cell_type": "code",
   "execution_count": 39,
   "metadata": {},
   "outputs": [],
   "source": [
    "fig = go.Figure()\n",
    "\n",
    "list_cities = df.city.unique()\n",
    "\n",
    "for i in range(len(list_cities)):\n",
    "    \n",
    "    city_now = list_cities[i]\n",
    "    df_1 = df[df['city'].str.match(city_now)]\n",
    "    list_parties = df_1.party.unique()\n",
    "    \n",
    "    for j in range(len(list_parties)):\n",
    "        \n",
    "        party_now = list_parties[i]\n",
    "        df_2 = df_1[df_1['party'].str.match(party_now)]\n",
    "        \n",
    "    \n",
    "        fig.add_trace(go.Indicator(\n",
    "            domain = {'x': [0, 1], 'y': [0, 1]},\n",
    "            mode = \"gauge+delta\",\n",
    "            value = df_2.iat[0, 2],\n",
    "            delta = {'reference': df_2.iat[0, 5]},\n",
    "            gauge = {'axis': {'range': [None, 50],\n",
    "                              'tickmode': 'array',\n",
    "                              'tickvals': [0,2,4,6,8,10,12,14,16,18,20,22,24,26,28,30,32,34,36,38,40,42,44,46,48,50,52,54,56,58,60],\n",
    "                             },\n",
    "                     'bar': {'color': df_2.iat[0, 6]},\n",
    "                     'steps' : [\n",
    "                         {'range': [df_2.iat[0, 3], df_2.iat[0, 4]], 'color': df_2.iat[0, 7]}\n",
    "                     ],\n",
    "                     'threshold': {'line': {'color': 'black', 'width': 5}, 'value': df_2.iat[0, 5]}\n",
    "            \n",
    "                    },\n",
    "            visible = False,\n",
    "        )\n",
    "                    )"
   ]
  },
  {
   "cell_type": "code",
   "execution_count": 41,
   "metadata": {},
   "outputs": [
    {
     "data": {
      "text/html": [
       "\n",
       "        <iframe\n",
       "            width=\"1000px\"\n",
       "            height=\"500px\"\n",
       "            src=\"https://plot.ly/~marius92/155.embed\"\n",
       "            frameborder=\"0\"\n",
       "            allowfullscreen\n",
       "        ></iframe>\n",
       "        "
      ],
      "text/plain": [
       "<IPython.lib.display.IFrame at 0x1dd3bdbbe08>"
      ]
     },
     "execution_count": 41,
     "metadata": {},
     "output_type": "execute_result"
    }
   ],
   "source": [
    "fig.layout.update(\n",
    "    updatemenus=[\n",
    "        go.layout.Updatemenu(\n",
    "            buttons=list([\n",
    "                dict(label= \"<b> München - CDU </b>\",\n",
    "                     method=\"update\",\n",
    "                     args=[{\"visible\": [True, False, False, False]\n",
    "                               },\n",
    "                          ]),\n",
    "                dict(label= \"<b> München -SPD </b>\",\n",
    "                     method=\"update\",\n",
    "                     args=[{\"visible\": [False, True, False, False]\n",
    "                               },\n",
    "                          ]),\n",
    "                dict(label= \"<b> Nürnberg - CDU </b>\",\n",
    "                     method=\"update\",\n",
    "                     args=[{\"visible\": [False, False, True, False]\n",
    "                               },\n",
    "                          ]),\n",
    "                dict(label= \"<b> Nürnberg - SPD </b>\",\n",
    "                     method=\"update\",\n",
    "                     args=[{\"visible\": [False, False, False, True]\n",
    "                               },\n",
    "                          ]),\n",
    "            ]),\n",
    "            y = 1.24,\n",
    "            bgcolor = '#efefef',\n",
    "            font = dict(family = 'Old Standard TT',\n",
    "                        size = 18,\n",
    "                       ),\n",
    "            borderwidth = 1.2,\n",
    "        )\n",
    "    ]\n",
    ")\n",
    "fig['layout'].update(width = 1000, height = 500)\n",
    "filename = 'Uncertainty'\n",
    "py.iplot(fig, filename = filename)"
   ]
  },
  {
   "cell_type": "code",
   "execution_count": null,
   "metadata": {},
   "outputs": [],
   "source": []
  }
 ],
 "metadata": {
  "kernelspec": {
   "display_name": "Python 3",
   "language": "python",
   "name": "python3"
  },
  "language_info": {
   "codemirror_mode": {
    "name": "ipython",
    "version": 3
   },
   "file_extension": ".py",
   "mimetype": "text/x-python",
   "name": "python",
   "nbconvert_exporter": "python",
   "pygments_lexer": "ipython3",
   "version": "3.7.4"
  }
 },
 "nbformat": 4,
 "nbformat_minor": 2
}
